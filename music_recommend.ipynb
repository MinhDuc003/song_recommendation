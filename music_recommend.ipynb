{
 "cells": [
  {
   "cell_type": "markdown",
   "id": "b04d1d62",
   "metadata": {},
   "source": [
    "# Importing the Dependencies"
   ]
  },
  {
   "cell_type": "code",
   "execution_count": null,
   "id": "6205e806",
   "metadata": {},
   "outputs": [],
   "source": [
    "import zipfile\n",
    "import numpy as np\n",
    "import pandas as pd\n",
    "import matplotlib.pyplot as plt\n",
    "from sklearn.feature_extraction.text import TfidfVectorizer\n",
    "from sklearn.metrics.pairwise import cosine_similarity\n",
    "from wordcloud import WordCloud\n",
    "import re\n",
    "import nltk\n",
    "from nltk.corpus import stopwords\n",
    "from nltk.tokenize import word_tokenize"
   ]
  },
  {
   "cell_type": "markdown",
   "id": "f513c727",
   "metadata": {},
   "source": [
    "# LOAD DATASET"
   ]
  },
  {
   "cell_type": "code",
   "execution_count": null,
   "id": "2ba8776e",
   "metadata": {},
   "outputs": [],
   "source": [
    "# music.zip file downloaded from Kaggle\n",
    "with zipfile.ZipFile('song_recommendation\\data\\music.zip', 'r') as zip_ref:\n",
    "    zip_ref.extractall('data')"
   ]
  },
  {
   "cell_type": "code",
   "execution_count": null,
   "id": "2d735a23",
   "metadata": {},
   "outputs": [],
   "source": [
    "df = pd.read_csv('song_recommendation\\data\\spotify_millsongdata.csv') "
   ]
  },
  {
   "cell_type": "markdown",
   "id": "38d03d59",
   "metadata": {},
   "source": [
    "# Understanding"
   ]
  },
  {
   "cell_type": "code",
   "execution_count": null,
   "id": "b39337a0",
   "metadata": {},
   "outputs": [],
   "source": [
    "df.head()"
   ]
  },
  {
   "cell_type": "code",
   "execution_count": null,
   "id": "24934cc5",
   "metadata": {},
   "outputs": [],
   "source": [
    "df.shape"
   ]
  },
  {
   "cell_type": "code",
   "execution_count": null,
   "id": "929a9780",
   "metadata": {},
   "outputs": [],
   "source": [
    "df.info()"
   ]
  },
  {
   "cell_type": "code",
   "execution_count": null,
   "id": "5642b45f",
   "metadata": {},
   "outputs": [],
   "source": [
    "df.isnull().sum()"
   ]
  },
  {
   "cell_type": "code",
   "execution_count": null,
   "id": "a735a307",
   "metadata": {},
   "outputs": [],
   "source": [
    "# Top artists and songs\n",
    "top_artists = df['artist'].value_counts().head(10)\n",
    "print(\"Top 10\",top_artists)\n"
   ]
  },
  {
   "cell_type": "code",
   "execution_count": null,
   "id": "30b3bc2d",
   "metadata": {},
   "outputs": [],
   "source": [
    "#Lấy 28000 bài hát vì dữ liệu quá lớn để tính consine similarity\n",
    "df = df.sample(28000)\n",
    "\n",
    "df=df.drop('link', axis=1).reset_index(drop=True)"
   ]
  },
  {
   "cell_type": "code",
   "execution_count": null,
   "id": "cd1b84a4",
   "metadata": {},
   "outputs": [],
   "source": [
    "df.head()"
   ]
  },
  {
   "cell_type": "code",
   "execution_count": null,
   "id": "52f9638d",
   "metadata": {},
   "outputs": [],
   "source": [
    "# WordCloud for song lyrics\n",
    "all_lyrics = \" \".join(df['text'].dropna())\n",
    "wordcloud = WordCloud(width=800, height=400, background_color=\"white\").generate(all_lyrics)"
   ]
  },
  {
   "cell_type": "code",
   "execution_count": null,
   "id": "a34f1a13",
   "metadata": {},
   "outputs": [],
   "source": [
    "plt.figure(figsize=(12, 6))\n",
    "plt.imshow(wordcloud, interpolation='bilinear')\n",
    "plt.axis(\"off\")\n",
    "plt.title(\"Word Cloud for Song Lyrics\", fontsize=16)\n",
    "plt.show()"
   ]
  },
  {
   "cell_type": "markdown",
   "id": "cda916fd",
   "metadata": {},
   "source": [
    "# Data Preprocessing\n"
   ]
  },
  {
   "cell_type": "code",
   "execution_count": null,
   "id": "e118a266",
   "metadata": {},
   "outputs": [],
   "source": [
    "# download nltk data\n",
    "nltk.download('punkt')\n",
    "nltk.download('punkt_tab')\n",
    "nltk.download('stopwords')"
   ]
  },
  {
   "cell_type": "code",
   "execution_count": null,
   "id": "e5d7b4f5",
   "metadata": {},
   "outputs": [],
   "source": [
    "stop_words = set(stopwords.words('english'))"
   ]
  },
  {
   "cell_type": "code",
   "execution_count": null,
   "id": "8fcf3dc9",
   "metadata": {},
   "outputs": [],
   "source": [
    "def preprocess_text(text):\n",
    "    # Remove special characters and numbers\n",
    "    text = re.sub(r\"[^a-zA-Z\\s]\", \"\", text)\n",
    "    # Convert to lowercase\n",
    "    text = text.lower()\n",
    "    # Tokenize and remove stopwords\n",
    "    tokens = word_tokenize(text)\n",
    "    tokens = [word for word in tokens if word not in stop_words]\n",
    "    return \" \".join(tokens)"
   ]
  },
  {
   "cell_type": "code",
   "execution_count": null,
   "id": "2c5ac84d",
   "metadata": {},
   "outputs": [],
   "source": [
    "df['cleaned_text'] = df['text'].apply(preprocess_text)"
   ]
  },
  {
   "cell_type": "code",
   "execution_count": null,
   "id": "6be30fa6",
   "metadata": {},
   "outputs": [],
   "source": [
    "df.head()"
   ]
  },
  {
   "cell_type": "code",
   "execution_count": null,
   "id": "ff8bc2c4",
   "metadata": {},
   "outputs": [],
   "source": [
    "tfidf_vectorizer = TfidfVectorizer(max_features=5000)\n",
    "tfidf_matrix = tfidf_vectorizer.fit_transform(df['cleaned_text'])"
   ]
  },
  {
   "cell_type": "code",
   "execution_count": null,
   "id": "55365bcb",
   "metadata": {},
   "outputs": [],
   "source": [
    "vector = tfidf_matrix\n",
    "print(vector.nnz)  "
   ]
  },
  {
   "cell_type": "code",
   "execution_count": null,
   "id": "69e335c1",
   "metadata": {},
   "outputs": [],
   "source": [
    "print(tfidf_matrix.shape)"
   ]
  },
  {
   "cell_type": "code",
   "execution_count": null,
   "id": "47262d2f",
   "metadata": {},
   "outputs": [],
   "source": [
    "sim_scores = cosine_similarity(tfidf_matrix, tfidf_matrix)"
   ]
  },
  {
   "cell_type": "code",
   "execution_count": null,
   "id": "461195fd",
   "metadata": {},
   "outputs": [],
   "source": [
    "def recommend_song(input_title,sim_scores=sim_scores, df=df, top_k=5):\n",
    "    # Lấy chỉ số bài hát đầu vào\n",
    "    idx = df[df['song'].str.lower() == input_title.lower()].index\n",
    "    # Kiểm tra input có trong dataset không\n",
    "    if len(idx) == 0:\n",
    "        return f\"Song '{input_title}' not found in the  trong dataset.\"\n",
    "    idx = idx[0]\n",
    "\n",
    "    # Lấy điểm tương đồng của bài hát đầu vào với tất cả các bài hát khác\n",
    "    sim_scores = list(enumerate(sim_scores[idx]))\n",
    "\n",
    "    # Lấy top_k bài hát tương đồng nhất, loại trừ chính nó\n",
    "    sim_scores = sorted(sim_scores, key=lambda x: x[1], reverse=True)\n",
    "    sim_scores = sim_scores[1:top_k+1]\n",
    "\n",
    "    # Lấy chỉ số bài hát tương đồng nhất\n",
    "    song_indices = [i[0] for i in sim_scores]\n",
    "    \n",
    "    # Trả về danh sách bài hát gợi ý\n",
    "    recommendations = df[['song', 'artist']].iloc[song_indices]\n",
    "    return recommendations"
   ]
  },
  {
   "cell_type": "code",
   "execution_count": null,
   "id": "5c3f23c0",
   "metadata": {},
   "outputs": [],
   "source": [
    "df.head()"
   ]
  },
  {
   "cell_type": "code",
   "execution_count": null,
   "id": "538c9fd0",
   "metadata": {},
   "outputs": [],
   "source": [
    "# Example Recommendation\n",
    "print(\"\\nRecommendations for the song :\")\n",
    "recommendations = recommend_song(\"Demonizer\",top_k=10)\n",
    "print(recommendations)"
   ]
  },
  {
   "cell_type": "code",
   "execution_count": null,
   "id": "36aeab92",
   "metadata": {},
   "outputs": [],
   "source": [
    "import joblib\n",
    "df.to_csv(\"song_recommendation/data/cleaned_songs.csv\", index=False)\n",
    "joblib.dump(tfidf_vectorizer, 'song_recommendation/models/tfidf_vectorizer.pkl')\n",
    "joblib.dump(tfidf_matrix, 'song_recommendation/models/tfidf_matrix.pkl')\n",
    "joblib.dump(sim_scores, 'song_recommendation/models/cosine_sim.pkl')"
   ]
  }
 ],
 "metadata": {
  "kernelspec": {
   "display_name": "venv",
   "language": "python",
   "name": "python3"
  },
  "language_info": {
   "codemirror_mode": {
    "name": "ipython",
    "version": 3
   },
   "file_extension": ".py",
   "mimetype": "text/x-python",
   "name": "python",
   "nbconvert_exporter": "python",
   "pygments_lexer": "ipython3",
   "version": "3.11.5"
  }
 },
 "nbformat": 4,
 "nbformat_minor": 5
}
